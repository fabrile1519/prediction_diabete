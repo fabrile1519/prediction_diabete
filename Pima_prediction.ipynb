{
 "cells": [
  {
   "cell_type": "markdown",
   "id": "41d968c7",
   "metadata": {},
   "source": [
    "# Devoir Machine Learning Patient Diabétique ou Non"
   ]
  },
  {
   "cell_type": "code",
   "execution_count": 1,
   "id": "cb1c653c",
   "metadata": {},
   "outputs": [],
   "source": [
    "#import the librairies \n",
    "import warnings\n",
    "import pandas as pd \n",
    "import numpy as np\n",
    "import seaborn as sns \n",
    "import matplotlib.pyplot as plt\n",
    "%matplotlib inline"
   ]
  },
  {
   "cell_type": "markdown",
   "id": "3ad1d5f7",
   "metadata": {},
   "source": [
    "# Data preprocessing : exploration et visualisation des datas"
   ]
  },
  {
   "cell_type": "code",
   "execution_count": 2,
   "id": "70750770",
   "metadata": {},
   "outputs": [],
   "source": [
    "df = pd.read_excel(\"C:\\\\Users\\HP\\Downloads\\\\pima-data.xlsx\") # chargement des données"
   ]
  },
  {
   "cell_type": "code",
   "execution_count": 3,
   "id": "a385779a",
   "metadata": {},
   "outputs": [
    {
     "data": {
      "text/html": [
       "<div>\n",
       "<style scoped>\n",
       "    .dataframe tbody tr th:only-of-type {\n",
       "        vertical-align: middle;\n",
       "    }\n",
       "\n",
       "    .dataframe tbody tr th {\n",
       "        vertical-align: top;\n",
       "    }\n",
       "\n",
       "    .dataframe thead th {\n",
       "        text-align: right;\n",
       "    }\n",
       "</style>\n",
       "<table border=\"1\" class=\"dataframe\">\n",
       "  <thead>\n",
       "    <tr style=\"text-align: right;\">\n",
       "      <th></th>\n",
       "      <th>num_preg</th>\n",
       "      <th>glucose_conc</th>\n",
       "      <th>diastolic_bp</th>\n",
       "      <th>thickness</th>\n",
       "      <th>insulin</th>\n",
       "      <th>bmi</th>\n",
       "      <th>diab_pred</th>\n",
       "      <th>age</th>\n",
       "      <th>diabetes_orig</th>\n",
       "      <th>skin</th>\n",
       "      <th>has_diabetes</th>\n",
       "      <th>diabetes</th>\n",
       "    </tr>\n",
       "  </thead>\n",
       "  <tbody>\n",
       "    <tr>\n",
       "      <th>753</th>\n",
       "      <td>0</td>\n",
       "      <td>181</td>\n",
       "      <td>88</td>\n",
       "      <td>44</td>\n",
       "      <td>510</td>\n",
       "      <td>43.3</td>\n",
       "      <td>0.222</td>\n",
       "      <td>26</td>\n",
       "      <td>1</td>\n",
       "      <td>1.7336</td>\n",
       "      <td>True</td>\n",
       "      <td>True</td>\n",
       "    </tr>\n",
       "    <tr>\n",
       "      <th>426</th>\n",
       "      <td>0</td>\n",
       "      <td>94</td>\n",
       "      <td>0</td>\n",
       "      <td>0</td>\n",
       "      <td>0</td>\n",
       "      <td>0.0</td>\n",
       "      <td>0.256</td>\n",
       "      <td>25</td>\n",
       "      <td>0</td>\n",
       "      <td>0.0000</td>\n",
       "      <td>False</td>\n",
       "      <td>False</td>\n",
       "    </tr>\n",
       "    <tr>\n",
       "      <th>83</th>\n",
       "      <td>0</td>\n",
       "      <td>101</td>\n",
       "      <td>65</td>\n",
       "      <td>28</td>\n",
       "      <td>0</td>\n",
       "      <td>24.6</td>\n",
       "      <td>0.237</td>\n",
       "      <td>22</td>\n",
       "      <td>0</td>\n",
       "      <td>1.1032</td>\n",
       "      <td>False</td>\n",
       "      <td>False</td>\n",
       "    </tr>\n",
       "    <tr>\n",
       "      <th>460</th>\n",
       "      <td>9</td>\n",
       "      <td>120</td>\n",
       "      <td>72</td>\n",
       "      <td>22</td>\n",
       "      <td>56</td>\n",
       "      <td>20.8</td>\n",
       "      <td>0.733</td>\n",
       "      <td>48</td>\n",
       "      <td>0</td>\n",
       "      <td>0.8668</td>\n",
       "      <td>False</td>\n",
       "      <td>False</td>\n",
       "    </tr>\n",
       "    <tr>\n",
       "      <th>673</th>\n",
       "      <td>3</td>\n",
       "      <td>123</td>\n",
       "      <td>100</td>\n",
       "      <td>35</td>\n",
       "      <td>240</td>\n",
       "      <td>57.3</td>\n",
       "      <td>0.880</td>\n",
       "      <td>22</td>\n",
       "      <td>0</td>\n",
       "      <td>1.3790</td>\n",
       "      <td>False</td>\n",
       "      <td>False</td>\n",
       "    </tr>\n",
       "  </tbody>\n",
       "</table>\n",
       "</div>"
      ],
      "text/plain": [
       "     num_preg  glucose_conc  diastolic_bp  thickness  insulin   bmi  \\\n",
       "753         0           181            88         44      510  43.3   \n",
       "426         0            94             0          0        0   0.0   \n",
       "83          0           101            65         28        0  24.6   \n",
       "460         9           120            72         22       56  20.8   \n",
       "673         3           123           100         35      240  57.3   \n",
       "\n",
       "     diab_pred  age  diabetes_orig    skin  has_diabetes  diabetes  \n",
       "753      0.222   26              1  1.7336          True      True  \n",
       "426      0.256   25              0  0.0000         False     False  \n",
       "83       0.237   22              0  1.1032         False     False  \n",
       "460      0.733   48              0  0.8668         False     False  \n",
       "673      0.880   22              0  1.3790         False     False  "
      ]
     },
     "execution_count": 3,
     "metadata": {},
     "output_type": "execute_result"
    }
   ],
   "source": [
    "df.sample(5)"
   ]
  },
  {
   "cell_type": "code",
   "execution_count": 4,
   "id": "cdba1c10",
   "metadata": {},
   "outputs": [
    {
     "data": {
      "text/plain": [
       "((768, 12),\n",
       " Index(['num_preg', 'glucose_conc', 'diastolic_bp', 'thickness', 'insulin',\n",
       "        'bmi', 'diab_pred', 'age', 'diabetes_orig', 'skin', 'has_diabetes',\n",
       "        'diabetes'],\n",
       "       dtype='object'))"
      ]
     },
     "execution_count": 4,
     "metadata": {},
     "output_type": "execute_result"
    }
   ],
   "source": [
    "df.shape, df.columns "
   ]
  },
  {
   "cell_type": "code",
   "execution_count": 5,
   "id": "3852342f",
   "metadata": {},
   "outputs": [
    {
     "name": "stdout",
     "output_type": "stream",
     "text": [
      "<class 'pandas.core.frame.DataFrame'>\n",
      "RangeIndex: 768 entries, 0 to 767\n",
      "Data columns (total 12 columns):\n",
      " #   Column         Non-Null Count  Dtype  \n",
      "---  ------         --------------  -----  \n",
      " 0   num_preg       768 non-null    int64  \n",
      " 1   glucose_conc   768 non-null    int64  \n",
      " 2   diastolic_bp   768 non-null    int64  \n",
      " 3   thickness      768 non-null    int64  \n",
      " 4   insulin        768 non-null    int64  \n",
      " 5   bmi            768 non-null    float64\n",
      " 6   diab_pred      768 non-null    float64\n",
      " 7   age            768 non-null    int64  \n",
      " 8   diabetes_orig  768 non-null    int64  \n",
      " 9   skin           768 non-null    float64\n",
      " 10  has_diabetes   768 non-null    bool   \n",
      " 11  diabetes       768 non-null    bool   \n",
      "dtypes: bool(2), float64(3), int64(7)\n",
      "memory usage: 61.6 KB\n"
     ]
    }
   ],
   "source": [
    "df.info()"
   ]
  },
  {
   "cell_type": "markdown",
   "id": "f779f584",
   "metadata": {},
   "source": [
    "Recherche des valeurs Nuls ou manquante"
   ]
  },
  {
   "cell_type": "code",
   "execution_count": 107,
   "id": "a3151988",
   "metadata": {},
   "outputs": [
    {
     "data": {
      "text/plain": [
       "num_preg        0\n",
       "glucose_conc    0\n",
       "diastolic_bp    0\n",
       "thickness       0\n",
       "insulin         0\n",
       "bmi             0\n",
       "diab_pred       0\n",
       "age             0\n",
       "diabetes        0\n",
       "dtype: int64"
      ]
     },
     "execution_count": 107,
     "metadata": {},
     "output_type": "execute_result"
    }
   ],
   "source": [
    "df.isna().sum()"
   ]
  },
  {
   "cell_type": "code",
   "execution_count": 7,
   "id": "1e7aa3ff",
   "metadata": {},
   "outputs": [
    {
     "data": {
      "text/plain": [
       "False"
      ]
     },
     "execution_count": 7,
     "metadata": {},
     "output_type": "execute_result"
    }
   ],
   "source": [
    "df.isnull().values.any()"
   ]
  },
  {
   "cell_type": "markdown",
   "id": "099e6160",
   "metadata": {},
   "source": [
    " Fonction qui permet de vérifier la corrélation entre les features ( jaune = + correlé ; bleu = - correlé)"
   ]
  },
  {
   "cell_type": "code",
   "execution_count": 8,
   "id": "049a7d83",
   "metadata": {},
   "outputs": [
    {
     "data": {
      "text/html": [
       "<div>\n",
       "<style scoped>\n",
       "    .dataframe tbody tr th:only-of-type {\n",
       "        vertical-align: middle;\n",
       "    }\n",
       "\n",
       "    .dataframe tbody tr th {\n",
       "        vertical-align: top;\n",
       "    }\n",
       "\n",
       "    .dataframe thead th {\n",
       "        text-align: right;\n",
       "    }\n",
       "</style>\n",
       "<table border=\"1\" class=\"dataframe\">\n",
       "  <thead>\n",
       "    <tr style=\"text-align: right;\">\n",
       "      <th></th>\n",
       "      <th>num_preg</th>\n",
       "      <th>glucose_conc</th>\n",
       "      <th>diastolic_bp</th>\n",
       "      <th>thickness</th>\n",
       "      <th>insulin</th>\n",
       "      <th>bmi</th>\n",
       "      <th>diab_pred</th>\n",
       "      <th>age</th>\n",
       "      <th>diabetes_orig</th>\n",
       "      <th>skin</th>\n",
       "      <th>has_diabetes</th>\n",
       "      <th>diabetes</th>\n",
       "    </tr>\n",
       "  </thead>\n",
       "  <tbody>\n",
       "    <tr>\n",
       "      <th>num_preg</th>\n",
       "      <td>1.000000</td>\n",
       "      <td>0.129459</td>\n",
       "      <td>0.141282</td>\n",
       "      <td>-0.081672</td>\n",
       "      <td>-0.073535</td>\n",
       "      <td>0.017683</td>\n",
       "      <td>-0.033523</td>\n",
       "      <td>0.544341</td>\n",
       "      <td>0.221898</td>\n",
       "      <td>-0.081672</td>\n",
       "      <td>0.221898</td>\n",
       "      <td>0.221898</td>\n",
       "    </tr>\n",
       "    <tr>\n",
       "      <th>glucose_conc</th>\n",
       "      <td>0.129459</td>\n",
       "      <td>1.000000</td>\n",
       "      <td>0.152590</td>\n",
       "      <td>0.057328</td>\n",
       "      <td>0.331357</td>\n",
       "      <td>0.221071</td>\n",
       "      <td>0.137337</td>\n",
       "      <td>0.263514</td>\n",
       "      <td>0.466581</td>\n",
       "      <td>0.057328</td>\n",
       "      <td>0.466581</td>\n",
       "      <td>0.466581</td>\n",
       "    </tr>\n",
       "    <tr>\n",
       "      <th>diastolic_bp</th>\n",
       "      <td>0.141282</td>\n",
       "      <td>0.152590</td>\n",
       "      <td>1.000000</td>\n",
       "      <td>0.207371</td>\n",
       "      <td>0.088933</td>\n",
       "      <td>0.281805</td>\n",
       "      <td>0.041265</td>\n",
       "      <td>0.239528</td>\n",
       "      <td>0.065068</td>\n",
       "      <td>0.207371</td>\n",
       "      <td>0.065068</td>\n",
       "      <td>0.065068</td>\n",
       "    </tr>\n",
       "    <tr>\n",
       "      <th>thickness</th>\n",
       "      <td>-0.081672</td>\n",
       "      <td>0.057328</td>\n",
       "      <td>0.207371</td>\n",
       "      <td>1.000000</td>\n",
       "      <td>0.436783</td>\n",
       "      <td>0.392573</td>\n",
       "      <td>0.183928</td>\n",
       "      <td>-0.113970</td>\n",
       "      <td>0.074752</td>\n",
       "      <td>1.000000</td>\n",
       "      <td>0.074752</td>\n",
       "      <td>0.074752</td>\n",
       "    </tr>\n",
       "    <tr>\n",
       "      <th>insulin</th>\n",
       "      <td>-0.073535</td>\n",
       "      <td>0.331357</td>\n",
       "      <td>0.088933</td>\n",
       "      <td>0.436783</td>\n",
       "      <td>1.000000</td>\n",
       "      <td>0.197859</td>\n",
       "      <td>0.185071</td>\n",
       "      <td>-0.042163</td>\n",
       "      <td>0.130548</td>\n",
       "      <td>0.436783</td>\n",
       "      <td>0.130548</td>\n",
       "      <td>0.130548</td>\n",
       "    </tr>\n",
       "    <tr>\n",
       "      <th>bmi</th>\n",
       "      <td>0.017683</td>\n",
       "      <td>0.221071</td>\n",
       "      <td>0.281805</td>\n",
       "      <td>0.392573</td>\n",
       "      <td>0.197859</td>\n",
       "      <td>1.000000</td>\n",
       "      <td>0.140647</td>\n",
       "      <td>0.036242</td>\n",
       "      <td>0.292695</td>\n",
       "      <td>0.392573</td>\n",
       "      <td>0.292695</td>\n",
       "      <td>0.292695</td>\n",
       "    </tr>\n",
       "    <tr>\n",
       "      <th>diab_pred</th>\n",
       "      <td>-0.033523</td>\n",
       "      <td>0.137337</td>\n",
       "      <td>0.041265</td>\n",
       "      <td>0.183928</td>\n",
       "      <td>0.185071</td>\n",
       "      <td>0.140647</td>\n",
       "      <td>1.000000</td>\n",
       "      <td>0.033561</td>\n",
       "      <td>0.173844</td>\n",
       "      <td>0.183928</td>\n",
       "      <td>0.173844</td>\n",
       "      <td>0.173844</td>\n",
       "    </tr>\n",
       "    <tr>\n",
       "      <th>age</th>\n",
       "      <td>0.544341</td>\n",
       "      <td>0.263514</td>\n",
       "      <td>0.239528</td>\n",
       "      <td>-0.113970</td>\n",
       "      <td>-0.042163</td>\n",
       "      <td>0.036242</td>\n",
       "      <td>0.033561</td>\n",
       "      <td>1.000000</td>\n",
       "      <td>0.238356</td>\n",
       "      <td>-0.113970</td>\n",
       "      <td>0.238356</td>\n",
       "      <td>0.238356</td>\n",
       "    </tr>\n",
       "    <tr>\n",
       "      <th>diabetes_orig</th>\n",
       "      <td>0.221898</td>\n",
       "      <td>0.466581</td>\n",
       "      <td>0.065068</td>\n",
       "      <td>0.074752</td>\n",
       "      <td>0.130548</td>\n",
       "      <td>0.292695</td>\n",
       "      <td>0.173844</td>\n",
       "      <td>0.238356</td>\n",
       "      <td>1.000000</td>\n",
       "      <td>0.074752</td>\n",
       "      <td>1.000000</td>\n",
       "      <td>1.000000</td>\n",
       "    </tr>\n",
       "    <tr>\n",
       "      <th>skin</th>\n",
       "      <td>-0.081672</td>\n",
       "      <td>0.057328</td>\n",
       "      <td>0.207371</td>\n",
       "      <td>1.000000</td>\n",
       "      <td>0.436783</td>\n",
       "      <td>0.392573</td>\n",
       "      <td>0.183928</td>\n",
       "      <td>-0.113970</td>\n",
       "      <td>0.074752</td>\n",
       "      <td>1.000000</td>\n",
       "      <td>0.074752</td>\n",
       "      <td>0.074752</td>\n",
       "    </tr>\n",
       "    <tr>\n",
       "      <th>has_diabetes</th>\n",
       "      <td>0.221898</td>\n",
       "      <td>0.466581</td>\n",
       "      <td>0.065068</td>\n",
       "      <td>0.074752</td>\n",
       "      <td>0.130548</td>\n",
       "      <td>0.292695</td>\n",
       "      <td>0.173844</td>\n",
       "      <td>0.238356</td>\n",
       "      <td>1.000000</td>\n",
       "      <td>0.074752</td>\n",
       "      <td>1.000000</td>\n",
       "      <td>1.000000</td>\n",
       "    </tr>\n",
       "    <tr>\n",
       "      <th>diabetes</th>\n",
       "      <td>0.221898</td>\n",
       "      <td>0.466581</td>\n",
       "      <td>0.065068</td>\n",
       "      <td>0.074752</td>\n",
       "      <td>0.130548</td>\n",
       "      <td>0.292695</td>\n",
       "      <td>0.173844</td>\n",
       "      <td>0.238356</td>\n",
       "      <td>1.000000</td>\n",
       "      <td>0.074752</td>\n",
       "      <td>1.000000</td>\n",
       "      <td>1.000000</td>\n",
       "    </tr>\n",
       "  </tbody>\n",
       "</table>\n",
       "</div>"
      ],
      "text/plain": [
       "               num_preg  glucose_conc  diastolic_bp  thickness   insulin  \\\n",
       "num_preg       1.000000      0.129459      0.141282  -0.081672 -0.073535   \n",
       "glucose_conc   0.129459      1.000000      0.152590   0.057328  0.331357   \n",
       "diastolic_bp   0.141282      0.152590      1.000000   0.207371  0.088933   \n",
       "thickness     -0.081672      0.057328      0.207371   1.000000  0.436783   \n",
       "insulin       -0.073535      0.331357      0.088933   0.436783  1.000000   \n",
       "bmi            0.017683      0.221071      0.281805   0.392573  0.197859   \n",
       "diab_pred     -0.033523      0.137337      0.041265   0.183928  0.185071   \n",
       "age            0.544341      0.263514      0.239528  -0.113970 -0.042163   \n",
       "diabetes_orig  0.221898      0.466581      0.065068   0.074752  0.130548   \n",
       "skin          -0.081672      0.057328      0.207371   1.000000  0.436783   \n",
       "has_diabetes   0.221898      0.466581      0.065068   0.074752  0.130548   \n",
       "diabetes       0.221898      0.466581      0.065068   0.074752  0.130548   \n",
       "\n",
       "                    bmi  diab_pred       age  diabetes_orig      skin  \\\n",
       "num_preg       0.017683  -0.033523  0.544341       0.221898 -0.081672   \n",
       "glucose_conc   0.221071   0.137337  0.263514       0.466581  0.057328   \n",
       "diastolic_bp   0.281805   0.041265  0.239528       0.065068  0.207371   \n",
       "thickness      0.392573   0.183928 -0.113970       0.074752  1.000000   \n",
       "insulin        0.197859   0.185071 -0.042163       0.130548  0.436783   \n",
       "bmi            1.000000   0.140647  0.036242       0.292695  0.392573   \n",
       "diab_pred      0.140647   1.000000  0.033561       0.173844  0.183928   \n",
       "age            0.036242   0.033561  1.000000       0.238356 -0.113970   \n",
       "diabetes_orig  0.292695   0.173844  0.238356       1.000000  0.074752   \n",
       "skin           0.392573   0.183928 -0.113970       0.074752  1.000000   \n",
       "has_diabetes   0.292695   0.173844  0.238356       1.000000  0.074752   \n",
       "diabetes       0.292695   0.173844  0.238356       1.000000  0.074752   \n",
       "\n",
       "               has_diabetes  diabetes  \n",
       "num_preg           0.221898  0.221898  \n",
       "glucose_conc       0.466581  0.466581  \n",
       "diastolic_bp       0.065068  0.065068  \n",
       "thickness          0.074752  0.074752  \n",
       "insulin            0.130548  0.130548  \n",
       "bmi                0.292695  0.292695  \n",
       "diab_pred          0.173844  0.173844  \n",
       "age                0.238356  0.238356  \n",
       "diabetes_orig      1.000000  1.000000  \n",
       "skin               0.074752  0.074752  \n",
       "has_diabetes       1.000000  1.000000  \n",
       "diabetes           1.000000  1.000000  "
      ]
     },
     "execution_count": 8,
     "metadata": {},
     "output_type": "execute_result"
    }
   ],
   "source": [
    "df.corr()"
   ]
  },
  {
   "cell_type": "code",
   "execution_count": 9,
   "id": "f729587b",
   "metadata": {},
   "outputs": [],
   "source": [
    "def plot_corr(df, size=11):\n",
    "    \"\"\"\n",
    "    fonction graphique de la matrix de correlation des colonnes.\n",
    "\n",
    "    Input:\n",
    "        df: pandas DataFrame\n",
    "        size: taille vertical et horizontal du plot\n",
    "\n",
    "    Affiches:\n",
    "        matrix de correlation entre colonnes.  Blue-cyan-jaune-rouge-noir => du moins au plus correlé\n",
    "                                                0 ------------------>  1\n",
    "    \"\"\"\n",
    "\n",
    "    corr = df.corr()    # fonction de correlation\n",
    "    fig, ax = plt.subplots(figsize=(size, size))\n",
    "    ax.matshow(corr)   # code couleur des rectangles par valeur de correlation\n",
    "    plt.xticks(range(len(corr.columns)), corr.columns)  # dessin x tick marks\n",
    "    plt.yticks(range(len(corr.columns)), corr.columns)  # draw y tick marks"
   ]
  },
  {
   "cell_type": "code",
   "execution_count": 10,
   "id": "a3d0c54c",
   "metadata": {},
   "outputs": [
    {
     "data": {
      "image/png": "[encoded data removed]",
      "text/plain": [
       "<Figure size 792x792 with 1 Axes>"
      ]
     },
     "metadata": {
      "needs_background": "light"
     },
     "output_type": "display_data"
    }
   ],
   "source": [
    "plot_corr(df)"
   ]
  },
  {
   "cell_type": "markdown",
   "id": "c2474388",
   "metadata": {},
   "source": [
    "#Suppression des colonnes qui ont une très forte corrélation car elle ne nous apporte pas grand information"
   ]
  },
  {
   "cell_type": "raw",
   "id": "1275a594",
   "metadata": {},
   "source": [
    "df[\"diabetes\"].sum() == df[\"has_diabetes\"].sum()"
   ]
  },
  {
   "cell_type": "code",
   "execution_count": 11,
   "id": "a8010ad9",
   "metadata": {},
   "outputs": [],
   "source": [
    "col_del = [\"has_diabetes\",\"skin\", \"diabetes_orig\"]\n",
    "df1 = df.drop(col_del, axis=1, inplace=True)"
   ]
  },
  {
   "cell_type": "raw",
   "id": "56257d41",
   "metadata": {},
   "source": [
    "del df[\"skin\"]"
   ]
  },
  {
   "cell_type": "raw",
   "id": "660926e6",
   "metadata": {},
   "source": [
    "del df[\"has_diabetes\"]"
   ]
  },
  {
   "cell_type": "code",
   "execution_count": 12,
   "id": "a4b60c04",
   "metadata": {},
   "outputs": [
    {
     "data": {
      "text/html": [
       "<div>\n",
       "<style scoped>\n",
       "    .dataframe tbody tr th:only-of-type {\n",
       "        vertical-align: middle;\n",
       "    }\n",
       "\n",
       "    .dataframe tbody tr th {\n",
       "        vertical-align: top;\n",
       "    }\n",
       "\n",
       "    .dataframe thead th {\n",
       "        text-align: right;\n",
       "    }\n",
       "</style>\n",
       "<table border=\"1\" class=\"dataframe\">\n",
       "  <thead>\n",
       "    <tr style=\"text-align: right;\">\n",
       "      <th></th>\n",
       "      <th>num_preg</th>\n",
       "      <th>glucose_conc</th>\n",
       "      <th>diastolic_bp</th>\n",
       "      <th>thickness</th>\n",
       "      <th>insulin</th>\n",
       "      <th>bmi</th>\n",
       "      <th>diab_pred</th>\n",
       "      <th>age</th>\n",
       "      <th>diabetes</th>\n",
       "    </tr>\n",
       "  </thead>\n",
       "  <tbody>\n",
       "    <tr>\n",
       "      <th>417</th>\n",
       "      <td>4</td>\n",
       "      <td>144</td>\n",
       "      <td>82</td>\n",
       "      <td>32</td>\n",
       "      <td>0</td>\n",
       "      <td>38.5</td>\n",
       "      <td>0.554</td>\n",
       "      <td>37</td>\n",
       "      <td>True</td>\n",
       "    </tr>\n",
       "    <tr>\n",
       "      <th>74</th>\n",
       "      <td>1</td>\n",
       "      <td>79</td>\n",
       "      <td>75</td>\n",
       "      <td>30</td>\n",
       "      <td>0</td>\n",
       "      <td>32.0</td>\n",
       "      <td>0.396</td>\n",
       "      <td>22</td>\n",
       "      <td>False</td>\n",
       "    </tr>\n",
       "    <tr>\n",
       "      <th>499</th>\n",
       "      <td>6</td>\n",
       "      <td>154</td>\n",
       "      <td>74</td>\n",
       "      <td>32</td>\n",
       "      <td>193</td>\n",
       "      <td>29.3</td>\n",
       "      <td>0.839</td>\n",
       "      <td>39</td>\n",
       "      <td>False</td>\n",
       "    </tr>\n",
       "  </tbody>\n",
       "</table>\n",
       "</div>"
      ],
      "text/plain": [
       "     num_preg  glucose_conc  diastolic_bp  thickness  insulin   bmi  \\\n",
       "417         4           144            82         32        0  38.5   \n",
       "74          1            79            75         30        0  32.0   \n",
       "499         6           154            74         32      193  29.3   \n",
       "\n",
       "     diab_pred  age  diabetes  \n",
       "417      0.554   37      True  \n",
       "74       0.396   22     False  \n",
       "499      0.839   39     False  "
      ]
     },
     "execution_count": 12,
     "metadata": {},
     "output_type": "execute_result"
    }
   ],
   "source": [
    "df.sample(3)"
   ]
  },
  {
   "cell_type": "raw",
   "id": "3b24a3c8",
   "metadata": {},
   "source": [
    "Transformons la colonnes diabetes en binaire \n"
   ]
  },
  {
   "cell_type": "code",
   "execution_count": 13,
   "id": "d2ed5e04",
   "metadata": {},
   "outputs": [],
   "source": [
    "col_diabete = {True : 1, False : 0}\n",
    "df[\"diabetes\"] = df[\"diabetes\"].map(col_diabete)"
   ]
  },
  {
   "cell_type": "raw",
   "id": "6bf53949",
   "metadata": {},
   "source": [
    "df['diabetes'] = df['diabetes'].replace([False, True], [0,1])"
   ]
  },
  {
   "cell_type": "code",
   "execution_count": 14,
   "id": "e2f579d9",
   "metadata": {},
   "outputs": [
    {
     "data": {
      "text/html": [
       "<div>\n",
       "<style scoped>\n",
       "    .dataframe tbody tr th:only-of-type {\n",
       "        vertical-align: middle;\n",
       "    }\n",
       "\n",
       "    .dataframe tbody tr th {\n",
       "        vertical-align: top;\n",
       "    }\n",
       "\n",
       "    .dataframe thead th {\n",
       "        text-align: right;\n",
       "    }\n",
       "</style>\n",
       "<table border=\"1\" class=\"dataframe\">\n",
       "  <thead>\n",
       "    <tr style=\"text-align: right;\">\n",
       "      <th></th>\n",
       "      <th>num_preg</th>\n",
       "      <th>glucose_conc</th>\n",
       "      <th>diastolic_bp</th>\n",
       "      <th>thickness</th>\n",
       "      <th>insulin</th>\n",
       "      <th>bmi</th>\n",
       "      <th>diab_pred</th>\n",
       "      <th>age</th>\n",
       "      <th>diabetes</th>\n",
       "    </tr>\n",
       "  </thead>\n",
       "  <tbody>\n",
       "    <tr>\n",
       "      <th>0</th>\n",
       "      <td>6</td>\n",
       "      <td>148</td>\n",
       "      <td>72</td>\n",
       "      <td>35</td>\n",
       "      <td>0</td>\n",
       "      <td>33.6</td>\n",
       "      <td>0.627</td>\n",
       "      <td>50</td>\n",
       "      <td>1</td>\n",
       "    </tr>\n",
       "    <tr>\n",
       "      <th>1</th>\n",
       "      <td>1</td>\n",
       "      <td>85</td>\n",
       "      <td>66</td>\n",
       "      <td>29</td>\n",
       "      <td>0</td>\n",
       "      <td>26.6</td>\n",
       "      <td>0.351</td>\n",
       "      <td>31</td>\n",
       "      <td>0</td>\n",
       "    </tr>\n",
       "    <tr>\n",
       "      <th>2</th>\n",
       "      <td>8</td>\n",
       "      <td>183</td>\n",
       "      <td>64</td>\n",
       "      <td>0</td>\n",
       "      <td>0</td>\n",
       "      <td>23.3</td>\n",
       "      <td>0.672</td>\n",
       "      <td>32</td>\n",
       "      <td>1</td>\n",
       "    </tr>\n",
       "    <tr>\n",
       "      <th>3</th>\n",
       "      <td>1</td>\n",
       "      <td>89</td>\n",
       "      <td>66</td>\n",
       "      <td>23</td>\n",
       "      <td>94</td>\n",
       "      <td>28.1</td>\n",
       "      <td>0.167</td>\n",
       "      <td>21</td>\n",
       "      <td>0</td>\n",
       "    </tr>\n",
       "    <tr>\n",
       "      <th>4</th>\n",
       "      <td>0</td>\n",
       "      <td>137</td>\n",
       "      <td>40</td>\n",
       "      <td>35</td>\n",
       "      <td>168</td>\n",
       "      <td>43.1</td>\n",
       "      <td>2.288</td>\n",
       "      <td>33</td>\n",
       "      <td>1</td>\n",
       "    </tr>\n",
       "  </tbody>\n",
       "</table>\n",
       "</div>"
      ],
      "text/plain": [
       "   num_preg  glucose_conc  diastolic_bp  thickness  insulin   bmi  diab_pred  \\\n",
       "0         6           148            72         35        0  33.6      0.627   \n",
       "1         1            85            66         29        0  26.6      0.351   \n",
       "2         8           183            64          0        0  23.3      0.672   \n",
       "3         1            89            66         23       94  28.1      0.167   \n",
       "4         0           137            40         35      168  43.1      2.288   \n",
       "\n",
       "   age  diabetes  \n",
       "0   50         1  \n",
       "1   31         0  \n",
       "2   32         1  \n",
       "3   21         0  \n",
       "4   33         1  "
      ]
     },
     "execution_count": 14,
     "metadata": {},
     "output_type": "execute_result"
    }
   ],
   "source": [
    "df.head()"
   ]
  },
  {
   "cell_type": "code",
   "execution_count": 15,
   "id": "2776624d",
   "metadata": {},
   "outputs": [
    {
     "name": "stdout",
     "output_type": "stream",
     "text": [
      "Nous avons une population de: 768\n",
      "avec 268 diabétique soit un ration de 34.89583333333333% \n",
      "et 65.10416666666667% de non malade\n"
     ]
    }
   ],
   "source": [
    "population =len(df)\n",
    "pop_malade = len(df[df[\"diabetes\"]==1])\n",
    "pop_sain = len(df[df[\"diabetes\"]==0])\n",
    "\n",
    "print(f\"Nous avons une population de: {population}\")\n",
    "print(f\"avec {pop_malade} diabétique soit un ration de {(pop_malade/population)*100}% \")\n",
    "print(f\"et {100 -(pop_malade/population)*100 }% de non malade\")"
   ]
  },
  {
   "cell_type": "raw",
   "id": "12f1edb1",
   "metadata": {},
   "source": [
    "Division de la donnée en 2: Train dataset, et Test dataset"
   ]
  },
  {
   "cell_type": "code",
   "execution_count": 54,
   "id": "02e00c83",
   "metadata": {},
   "outputs": [],
   "source": [
    "from sklearn.model_selection import train_test_split\n",
    "feature_col_name = ['num_preg', 'glucose_conc', 'diastolic_bp', 'thickness', 'insulin','bmi', 'diab_pred', 'age']\n",
    "predict_col_name = ['diabetes']\n",
    "X = df[feature_col_name].values\n",
    "y = df[predict_col_name].values\n",
    "split_test_size = 0.30\n",
    "X_train,  X_test, y_train, y_test=train_test_split(X,y,test_size=split_test_size, random_state=42)"
   ]
  },
  {
   "cell_type": "raw",
   "id": "ede95731",
   "metadata": {},
   "source": [
    "Vérifions que le dataset est divisé en 30% et 70%"
   ]
  },
  {
   "cell_type": "code",
   "execution_count": 59,
   "id": "5c99f888",
   "metadata": {},
   "outputs": [
    {
     "name": "stdout",
     "output_type": "stream",
     "text": [
      "le dataset de train est 0.70%\n",
      "le dataset de test est 0.30%\n"
     ]
    }
   ],
   "source": [
    "print(\"le dataset de train est {0:0.2f}%\".format(len(X_train)/len(df.index)))\n",
    "print(\"le dataset de test est {0:0.2f}%\".format(len(X_test)/len(df.index)))"
   ]
  },
  {
   "cell_type": "raw",
   "id": "6d8dae82",
   "metadata": {},
   "source": [
    "vérification de la valeur de prédiction"
   ]
  },
  {
   "cell_type": "code",
   "execution_count": 92,
   "id": "e1d87a07",
   "metadata": {},
   "outputs": [
    {
     "name": "stdout",
     "output_type": "stream",
     "text": [
      "Nous avons un total de 768 de valeur à prédire\n",
      "dans 537 d'observation de train à prédire, nous avons :0.3500931098696462% de valeur à 1 et 0.6499068901303539%  de valeur à 0 \n",
      "dans 231 d'observation de test à prédire, nous avons :0.3463203463203463% de valeur à 1 et 0.6536796536796536%  de valeur à 0 \n"
     ]
    }
   ],
   "source": [
    "a = len(y_train) + len(y_test)\n",
    "trainy_1 = y_train[y_train[:]==1]\n",
    "trainy_0 = y_train[y_train[:]==0]\n",
    "testy_1 = y_test[y_test[:]==1]\n",
    "testy_0 = y_test[y_test[:]==0]\n",
    "print(\"Nous avons un total de {0} de valeur à prédire\".format(len(y_train) + len(y_test)))\n",
    "#print(\"Nous avons {0}% de valeur à prédire à 1 de test\".format())\n",
    "print(f\"dans {len(y_train)} d'observation de train à prédire, nous avons :{len(trainy_1)/len(y_train)}% de valeur à 1 et {len(trainy_0)/len(y_train) }%  de valeur à 0 \")\n",
    "print(f\"dans {len(y_test)} d'observation de test à prédire, nous avons :{len(testy_1)/len(y_test)}% de valeur à 1 et {len(testy_0)/len(y_test) }%  de valeur à 0 \")\n",
    "#print(\"dans {0} d'observation de test à prédire, nous avons : {1:0.2f}% de valeur à 1 et {2:0.2f}%  de valeur à 0\").format(len(y_test), len(testy_1)/a, len(testy_0)/a )"
   ]
  },
  {
   "cell_type": "raw",
   "id": "c8e280e5",
   "metadata": {},
   "source": [
    "Regardons le pourcentage de valeur nulle"
   ]
  },
  {
   "cell_type": "code",
   "execution_count": 108,
   "id": "e02b0128",
   "metadata": {},
   "outputs": [
    {
     "name": "stdout",
     "output_type": "stream",
     "text": [
      "la colonne num_preg à 111 valeurs nulles, soit 0.14453125% de valeur nulles \n",
      "la colonne glucose_conc à 5 valeurs nulles, soit 0.006510416666666667% de valeur nulles \n",
      "la colonne diastolic_bp à 35 valeurs nulles, soit 0.045572916666666664% de valeur nulles \n",
      "la colonne thickness à 227 valeurs nulles, soit 0.2955729166666667% de valeur nulles \n",
      "la colonne insulin à 374 valeurs nulles, soit 0.4869791666666667% de valeur nulles \n",
      "la colonne bmi à 11 valeurs nulles, soit 0.014322916666666666% de valeur nulles \n",
      "la colonne diab_pred à 0 valeurs nulles, soit 0.0% de valeur nulles \n",
      "la colonne age à 0 valeurs nulles, soit 0.0% de valeur nulles \n"
     ]
    }
   ],
   "source": [
    "for i in feature_col_name:\n",
    "    lon_nul = len(df[df[i]==0])\n",
    "    a = lon_nul/len(df.values)\n",
    "    print(f\"la colonne {i} à {lon_nul} valeurs nulles, soit {a}% de valeur nulles \")"
   ]
  },
  {
   "cell_type": "markdown",
   "id": "4a41f8ff",
   "metadata": {},
   "source": [
    "Nous decidons de remplacer les valeurs manquantes par la moyenne ( imputation)"
   ]
  },
  {
   "cell_type": "code",
   "execution_count": 115,
   "id": "b401a7e8",
   "metadata": {},
   "outputs": [],
   "source": [
    "from sklearn.impute import SimpleImputer\n",
    "fill_0 = SimpleImputer(missing_values=0, strategy=\"mean\")\n",
    "X_train = fill_0.fit_transform(X_train)\n",
    "X_test = fill_0.fit_transform(X_test)"
   ]
  },
  {
   "cell_type": "markdown",
   "id": "0da98496",
   "metadata": {},
   "source": [
    "Algo de training - Naives Bayes"
   ]
  },
  {
   "cell_type": "code",
   "execution_count": 118,
   "id": "0c8687a7",
   "metadata": {},
   "outputs": [
    {
     "data": {
      "text/plain": [
       "GaussianNB()"
      ]
     },
     "execution_count": 118,
     "metadata": {},
     "output_type": "execute_result"
    }
   ],
   "source": [
    "from sklearn.naive_bayes import GaussianNB\n",
    "nb_model = GaussianNB()\n",
    "nb_model.fit(X_train, y_train.ravel())"
   ]
  },
  {
   "cell_type": "markdown",
   "id": "36a515a2",
   "metadata": {},
   "source": [
    "Performence sur les données d'entrainement"
   ]
  },
  {
   "cell_type": "code",
   "execution_count": 122,
   "id": "b86670bc",
   "metadata": {},
   "outputs": [
    {
     "name": "stdout",
     "output_type": "stream",
     "text": [
      "l'accuracy est de 0.75\n"
     ]
    }
   ],
   "source": [
    "# valeur prédict en utilisant les données de train\n",
    "nb_predict_train = nb_model.predict(X_train)\n",
    "from sklearn import metrics\n",
    "print(\"l'accuracy est de {0:0.2f}\".format(metrics.accuracy_score(y_train, nb_model.predict(X_train))))"
   ]
  },
  {
   "cell_type": "code",
   "execution_count": 123,
   "id": "466cc34b",
   "metadata": {},
   "outputs": [
    {
     "name": "stdout",
     "output_type": "stream",
     "text": [
      "Accuracy: 0.7542\n",
      "\n"
     ]
    }
   ],
   "source": [
    "# donnée de train \n",
    "nb_predict_train = nb_model.predict(X_train)\n",
    "\n",
    "# import the performance metrics library\n",
    "from sklearn import metrics\n",
    "\n",
    "# Accuracy\n",
    "print(\"Accuracy: {0:.4f}\".format(metrics.accuracy_score(y_train, nb_predict_train)))\n",
    "print()"
   ]
  },
  {
   "cell_type": "markdown",
   "id": "1679bc73",
   "metadata": {},
   "source": [
    "performance sur les données de test"
   ]
  },
  {
   "cell_type": "code",
   "execution_count": 124,
   "id": "a2a65cb2",
   "metadata": {},
   "outputs": [
    {
     "name": "stdout",
     "output_type": "stream",
     "text": [
      "Acurrancy: 0.7359\n"
     ]
    }
   ],
   "source": [
    "#prediction des valeur , utilisation des données de test\n",
    "nb_predict_test = nb_model.predict(X_test)\n",
    "# import the performance metrics library\n",
    "from sklearn import metrics\n",
    "\n",
    "# Accuracy\n",
    "print(\"Acurrancy: {0:0.4f}\".format(metrics.accuracy_score(y_test, nb_predict_test)))"
   ]
  },
  {
   "cell_type": "markdown",
   "id": "784f1119",
   "metadata": {},
   "source": [
    "Random forest"
   ]
  },
  {
   "cell_type": "code",
   "execution_count": 125,
   "id": "0f49d5fc",
   "metadata": {},
   "outputs": [
    {
     "data": {
      "text/plain": [
       "RandomForestClassifier(random_state=42)"
      ]
     },
     "execution_count": 125,
     "metadata": {},
     "output_type": "execute_result"
    }
   ],
   "source": [
    "from sklearn.ensemble import RandomForestClassifier\n",
    "rf_model = RandomForestClassifier(random_state=42)      # Create random forest object\n",
    "rf_model.fit(X_train, y_train.ravel())"
   ]
  },
  {
   "cell_type": "markdown",
   "id": "f9e68239",
   "metadata": {},
   "source": [
    "prediction donnée de training"
   ]
  },
  {
   "cell_type": "code",
   "execution_count": 126,
   "id": "5639fc52",
   "metadata": {},
   "outputs": [
    {
     "name": "stdout",
     "output_type": "stream",
     "text": [
      "Accuracy: 1.0000\n"
     ]
    }
   ],
   "source": [
    "rf_predict_train = rf_model.predict(X_train)\n",
    "# training metrics\n",
    "print(\"Accuracy: {0:.4f}\".format(metrics.accuracy_score(y_train, rf_predict_train)))"
   ]
  },
  {
   "cell_type": "markdown",
   "id": "e76d399b",
   "metadata": {},
   "source": [
    "prediction données de tests"
   ]
  },
  {
   "cell_type": "code",
   "execution_count": 127,
   "id": "ba364429",
   "metadata": {},
   "outputs": [
    {
     "name": "stdout",
     "output_type": "stream",
     "text": [
      "Accuracy: 0.7403\n"
     ]
    }
   ],
   "source": [
    "rf_predict_test = rf_model.predict(X_test)\n",
    "\n",
    "# training metrics\n",
    "print(\"Accuracy: {0:.4f}\".format(metrics.accuracy_score(y_test, rf_predict_test)))"
   ]
  },
  {
   "cell_type": "code",
   "execution_count": 128,
   "id": "3f3c7ade",
   "metadata": {},
   "outputs": [
    {
     "name": "stdout",
     "output_type": "stream",
     "text": [
      "[[119  32]\n",
      " [ 28  52]]\n",
      "\n",
      "Classification Report\n",
      "              precision    recall  f1-score   support\n",
      "\n",
      "           0       0.81      0.79      0.80       151\n",
      "           1       0.62      0.65      0.63        80\n",
      "\n",
      "    accuracy                           0.74       231\n",
      "   macro avg       0.71      0.72      0.72       231\n",
      "weighted avg       0.74      0.74      0.74       231\n",
      "\n"
     ]
    }
   ],
   "source": [
    "print(metrics.confusion_matrix(y_test, rf_predict_test) )\n",
    "print(\"\")\n",
    "print(\"Classification Report\")\n",
    "print(metrics.classification_report(y_test, rf_predict_test))"
   ]
  },
  {
   "cell_type": "markdown",
   "id": "2237642a",
   "metadata": {},
   "source": [
    "Regression logistique"
   ]
  },
  {
   "cell_type": "code",
   "execution_count": 129,
   "id": "abd800ce",
   "metadata": {},
   "outputs": [
    {
     "name": "stdout",
     "output_type": "stream",
     "text": [
      "Accuracy: 0.7489\n",
      "[[125  26]\n",
      " [ 32  48]]\n",
      "\n",
      "Classification Report\n",
      "              precision    recall  f1-score   support\n",
      "\n",
      "           0       0.80      0.83      0.81       151\n",
      "           1       0.65      0.60      0.62        80\n",
      "\n",
      "    accuracy                           0.75       231\n",
      "   macro avg       0.72      0.71      0.72       231\n",
      "weighted avg       0.75      0.75      0.75       231\n",
      "\n"
     ]
    },
    {
     "name": "stderr",
     "output_type": "stream",
     "text": [
      "C:\\ProgramData\\Anaconda3\\lib\\site-packages\\sklearn\\linear_model\\_logistic.py:763: ConvergenceWarning: lbfgs failed to converge (status=1):\n",
      "STOP: TOTAL NO. of ITERATIONS REACHED LIMIT.\n",
      "\n",
      "Increase the number of iterations (max_iter) or scale the data as shown in:\n",
      "    https://scikit-learn.org/stable/modules/preprocessing.html\n",
      "Please also refer to the documentation for alternative solver options:\n",
      "    https://scikit-learn.org/stable/modules/linear_model.html#logistic-regression\n",
      "  n_iter_i = _check_optimize_result(\n"
     ]
    }
   ],
   "source": [
    "from sklearn.linear_model import LogisticRegression\n",
    "\n",
    "lr_model =LogisticRegression(C=0.7, random_state=42)\n",
    "lr_model.fit(X_train, y_train.ravel())\n",
    "lr_predict_test = lr_model.predict(X_test)\n",
    "\n",
    "# training metrics\n",
    "print(\"Accuracy: {0:.4f}\".format(metrics.accuracy_score(y_test, lr_predict_test)))\n",
    "print(metrics.confusion_matrix(y_test, lr_predict_test) )\n",
    "print(\"\")\n",
    "print(\"Classification Report\")\n",
    "print(metrics.classification_report(y_test, lr_predict_test))"
   ]
  },
  {
   "cell_type": "markdown",
   "id": "9b2253a3",
   "metadata": {},
   "source": [
    "LogisticRegressionCV\n"
   ]
  },
  {
   "cell_type": "code",
   "execution_count": 130,
   "id": "57e3b5ab",
   "metadata": {},
   "outputs": [
    {
     "data": {
      "text/plain": [
       "LogisticRegressionCV(Cs=3, class_weight='balanced', cv=10, n_jobs=-1,\n",
       "                     random_state=42, refit=False)"
      ]
     },
     "execution_count": 130,
     "metadata": {},
     "output_type": "execute_result"
    }
   ],
   "source": [
    "from sklearn.linear_model import LogisticRegressionCV\n",
    "lr_cv_model = LogisticRegressionCV(n_jobs=-1, random_state=42, Cs=3, cv=10, refit=False, class_weight=\"balanced\")  # set number of jobs to -1 which uses all cores to parallelize\n",
    "lr_cv_model.fit(X_train, y_train.ravel())"
   ]
  },
  {
   "cell_type": "markdown",
   "id": "8b3ef592",
   "metadata": {},
   "source": [
    "Prediction sur les données de Test"
   ]
  },
  {
   "cell_type": "code",
   "execution_count": 131,
   "id": "8cc60c1a",
   "metadata": {},
   "outputs": [
    {
     "name": "stdout",
     "output_type": "stream",
     "text": [
      "Accuracy: 0.7056\n",
      "[[109  42]\n",
      " [ 26  54]]\n",
      "\n",
      "Classification Report\n",
      "              precision    recall  f1-score   support\n",
      "\n",
      "           0       0.81      0.72      0.76       151\n",
      "           1       0.56      0.68      0.61        80\n",
      "\n",
      "    accuracy                           0.71       231\n",
      "   macro avg       0.68      0.70      0.69       231\n",
      "weighted avg       0.72      0.71      0.71       231\n",
      "\n"
     ]
    }
   ],
   "source": [
    "lr_cv_predict_test = lr_cv_model.predict(X_test)\n",
    "\n",
    "# training metrics\n",
    "print(\"Accuracy: {0:.4f}\".format(metrics.accuracy_score(y_test, lr_cv_predict_test)))\n",
    "print(metrics.confusion_matrix(y_test, lr_cv_predict_test) )\n",
    "print(\"\")\n",
    "print(\"Classification Report\")\n",
    "print(metrics.classification_report(y_test, lr_cv_predict_test))"
   ]
  },
  {
   "cell_type": "code",
   "execution_count": null,
   "id": "d5c0a140",
   "metadata": {},
   "outputs": [],
   "source": []
  }
 ],
 "metadata": {
  "kernelspec": {
   "display_name": "Python 3",
   "language": "python",
   "name": "python3"
  },
  "language_info": {
   "codemirror_mode": {
    "name": "ipython",
    "version": 3
   },
   "file_extension": ".py",
   "mimetype": "text/x-python",
   "name": "python",
   "nbconvert_exporter": "python",
   "pygments_lexer": "ipython3",
   "version": "3.8.8"
  }
 },
 "nbformat": 4,
 "nbformat_minor": 5
}
